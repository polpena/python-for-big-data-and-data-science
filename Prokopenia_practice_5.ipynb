{
  "cells": [
    {
      "cell_type": "markdown",
      "metadata": {
        "id": "5qV_sehzFCTp"
      },
      "source": [
        "# I. OOP"
      ]
    },
    {
      "cell_type": "markdown",
      "metadata": {
        "id": "tx_U_hOALyfg"
      },
      "source": [
        "1. (6б). Створіть клас Animal, додайте три атрибути, один з яких має значення за замовчуванням та два методи на свій розсуд."
      ]
    },
    {
      "cell_type": "code",
      "execution_count": 3,
      "metadata": {
        "id": "-Vf895KaL88N",
        "trusted": true
      },
      "outputs": [],
      "source": [
        "class Animal:\n",
        "    def __init__(self, name, sound=\"\", legs=4):\n",
        "        self.name = name\n",
        "        self.sound = sound\n",
        "        self.legs = legs\n",
        "\n",
        "    def make_sound(self):\n",
        "        if self.sound:\n",
        "            return f\"The {self.name} makes a {self.sound} sound.\"\n",
        "        else:\n",
        "            return \"The animal is silent.\"\n",
        "\n",
        "    def describe(self):\n",
        "        return f\"This is a {self.name} with {self.legs} legs.\"\n"
      ]
    },
    {
      "cell_type": "markdown",
      "metadata": {
        "id": "X_UlOMB0L93w"
      },
      "source": [
        "2. (2б). Створіть два обʼєкти цього класу, де один з обʼєктів створюється із дефолтним значенням атрибуту. На одному обʼєкті отримайте значення його атрибуту, а на іншому викличте один з його методів."
      ]
    },
    {
      "cell_type": "code",
      "execution_count": 4,
      "metadata": {
        "id": "7gBu0ESOMCpG",
        "trusted": true
      },
      "outputs": [
        {
          "name": "stdout",
          "output_type": "stream",
          "text": [
            "Name of animal1: Dog\n",
            "The Cat makes a Meow sound.\n"
          ]
        }
      ],
      "source": [
        "animal1 = Animal(\"Dog\", \"Woof Woof\")\n",
        "\n",
        "animal2 = Animal(\"Cat\", sound=\"Meow\", legs=4)\n",
        "\n",
        "print(\"Name of animal1:\", animal1.name)\n",
        "\n",
        "print(animal2.make_sound())"
      ]
    },
    {
      "cell_type": "markdown",
      "metadata": {
        "id": "HoqSCZt1MHn5"
      },
      "source": [
        "3. (5б). Створіть клас, де атрибути мають різні рівні доступу. Спробуйте отримати їхні значення та опишіть результати."
      ]
    },
    {
      "cell_type": "code",
      "execution_count": 5,
      "metadata": {
        "id": "r9b3vJxBMSPV",
        "trusted": true
      },
      "outputs": [
        {
          "name": "stdout",
          "output_type": "stream",
          "text": [
            "Public attribute: public attribute\n",
            "Protected attribute: protected attribute\n",
            "'MyClass' object has no attribute '__private_attribute'\n",
            "Private attribute (using method): private attribute\n"
          ]
        }
      ],
      "source": [
        "class MyClass:\n",
        "    def __init__(self):\n",
        "        self.public_attribute = \"public attribute\"\n",
        "        self._protected_attribute = \"protected attribute\"\n",
        "        self.__private_attribute = \"private attribute\"\n",
        "\n",
        "    def get_private_attribute(self):\n",
        "        return self.__private_attribute\n",
        "\n",
        "obj = MyClass()\n",
        "\n",
        "# Отримання значень атрибутів\n",
        "print(\"Public attribute:\", obj.public_attribute)\n",
        "print(\"Protected attribute:\", obj._protected_attribute)\n",
        "\n",
        "try:\n",
        "    print(\"Private attribute:\", obj.__private_attribute)\n",
        "except AttributeError as e:\n",
        "    print(e)\n",
        "\n",
        "# Отримання значення приватного атрибуту за допомогою методу\n",
        "print(\"Private attribute (using method):\", obj.get_private_attribute())\n"
      ]
    },
    {
      "cell_type": "markdown",
      "metadata": {
        "id": "5op2m2vgMSkZ"
      },
      "source": [
        "4. (7б). Як ви розумієте термін self? Для чого використовується метод __init __?"
      ]
    },
    {
      "cell_type": "markdown",
      "metadata": {
        "id": "DyiPqNRvMasx"
      },
      "source": [
        "\n",
        "Термін self використовується вООП  для посилання на сам об'єкт, який викликає метод класу.При створенніе метоуд в класі, перший параметр методу, зазвичай називається self, це посилання на конкретний екземпляр класу, через якийможнае отримати доступ до атрибутів та методів цього об'єкта.\n",
        "\n",
        "Метод __ini (конструктор)t і викликається автоматично при створенні нового об'єкту класу. Мета методу __init__ полягає в ініціалізації атрибутів об'єкта. Він приймає об'єкт, для якого він викликається (зазвичай self) та інші парамекту. Використання __init__ дозволяє встановлювати початкові значення атрибутів об'єкта при його створенні."
      ]
    },
    {
      "cell_type": "markdown",
      "metadata": {
        "id": "-6X8EGfjMd2y"
      },
      "source": [
        "5. (9б). Створіть клас Фігура без атрибутів, з методом get_area для отримання площі фігури, що повертає 0 та __add __, який приймає self та other в якості аргументів, а повертає суму площин фігур self та other."
      ]
    },
    {
      "cell_type": "code",
      "execution_count": 6,
      "metadata": {
        "id": "4rvO_wYUMaEr",
        "trusted": true
      },
      "outputs": [],
      "source": [
        "class Figure:\n",
        "    def get_area(self):\n",
        "        return 0\n",
        "\n",
        "    def __add__(self, other):\n",
        "        return self.get_area() + other.get_area()"
      ]
    },
    {
      "cell_type": "markdown",
      "metadata": {
        "id": "SFcKnnv5Mo_z"
      },
      "source": [
        "6. (11б). Створіть 2 дочірніх класи від Фігури: Трикутник та Коло, які мають атрибути, необхідні для розрахунку площин. Визначте метод get_area в кожному з них так, щоби вони розраховували площу в залежності від формули для кожного типу фігури. Створіть обʼєкт класу Трикутник та обʼєкт класу Коло. Виконайте операцію суми за допомогою оператора + між ними."
      ]
    },
    {
      "cell_type": "code",
      "execution_count": 7,
      "metadata": {
        "id": "H3GVNr69Muf3",
        "trusted": true
      },
      "outputs": [
        {
          "name": "stdout",
          "output_type": "stream",
          "text": [
            "Total area: 38.27433388230814\n"
          ]
        }
      ],
      "source": [
        "import math\n",
        "\n",
        "class Figure:\n",
        "    def get_area(self):\n",
        "        return 0\n",
        "\n",
        "    def __add__(self, other):\n",
        "        return self.get_area() + other.get_area()\n",
        "\n",
        "class Triangle(Figure):\n",
        "    def __init__(self, base, height):\n",
        "        self.base = base\n",
        "        self.height = height\n",
        "\n",
        "    def get_area(self):\n",
        "        return 0.5 * self.base * self.height\n",
        "\n",
        "class Circle(Figure):\n",
        "    def __init__(self, radius):\n",
        "        self.radius = radius\n",
        "\n",
        "    def get_area(self):\n",
        "        return math.pi * self.radius ** 2\n",
        "\n",
        "triangle = Triangle(5, 4)\n",
        "circle = Circle(3)\n",
        "\n",
        "total_area = triangle + circle\n",
        "print(\"Total area:\", total_area)"
      ]
    },
    {
      "cell_type": "markdown",
      "metadata": {
        "id": "HCvR206YMvLK"
      },
      "source": [
        "7. (3б). Продемонструйте різницю між isinstance та issubclass."
      ]
    },
    {
      "cell_type": "code",
      "execution_count": 9,
      "metadata": {
        "id": "L_V1bBvDM0GN",
        "trusted": true
      },
      "outputs": [
        {
          "name": "stdout",
          "output_type": "stream",
          "text": [
            "Is obj_b an instance of class B or A? True\n",
            "Is obj_b an instance of class A? True\n",
            "Is class B a subclass of class A? True\n",
            "Is class A a subclass of class B? False\n"
          ]
        }
      ],
      "source": [
        "class A:\n",
        "    pass\n",
        "\n",
        "class B(A):\n",
        "    pass\n",
        "\n",
        "# Перевірка, чи об'єкт є екземпляром класу або його підкласу\n",
        "obj_b = B()\n",
        "print(\"Is obj_b an instance of class B or A?\", isinstance(obj_b, B))  # True\n",
        "print(\"Is obj_b an instance of class A?\", isinstance(obj_b, A))  # True\n",
        "\n",
        "# Перевірка, чи один клас є підкласом іншого класу\n",
        "print(\"Is class B a subclass of class A?\", issubclass(B, A))  # True\n",
        "print(\"Is class A a subclass of class B?\", issubclass(A, B))  # False"
      ]
    },
    {
      "cell_type": "markdown",
      "metadata": {
        "id": "jjsaBZ-iM0Qq"
      },
      "source": [
        "8. (13б). Створіть клас BankAccount з приватними атрибутами balance та account_number. Реалізуйте методи поповнення та зняття коштів, забезпечивши належну інкапсуляцію. Підказка: використовуйте декоратори property та setter."
      ]
    },
    {
      "cell_type": "code",
      "execution_count": 11,
      "metadata": {
        "id": "xCvZ7lh8M7YA",
        "trusted": true
      },
      "outputs": [
        {
          "name": "stdout",
          "output_type": "stream",
          "text": [
            "Account Number: 1234567890\n",
            "Initial Balance: 100\n",
            "Deposit of 50 successful. New balance: 150\n",
            "Withdrawal of 30 successful. New balance: 120\n",
            "Invalid withdrawal amount or insufficient funds.\n"
          ]
        }
      ],
      "source": [
        "class BankAccount:\n",
        "    def __init__(self, account_number, initial_balance=0):\n",
        "        self._balance = initial_balance\n",
        "        self._account_number = account_number\n",
        "\n",
        "    @property\n",
        "    def balance(self):\n",
        "        return self._balance\n",
        "\n",
        "    @property\n",
        "    def account_number(self):\n",
        "        return self._account_number\n",
        "\n",
        "    def deposit(self, amount):\n",
        "        if amount > 0:\n",
        "            self._balance += amount\n",
        "            print(f\"Deposit of {amount} successful. New balance: {self._balance}\")\n",
        "        else:\n",
        "            print(\"Invalid deposit amount. Please enter a positive value.\")\n",
        "\n",
        "    def withdraw(self, amount):\n",
        "        if 0 < amount <= self._balance:\n",
        "            self._balance -= amount\n",
        "            print(f\"Withdrawal of {amount} successful. New balance: {self._balance}\")\n",
        "        else:\n",
        "            print(\"Invalid withdrawal amount or insufficient funds.\")\n",
        "\n",
        "account = BankAccount(\"1234567890\", initial_balance=100)\n",
        "\n",
        "print(\"Account Number:\", account.account_number)\n",
        "print(\"Initial Balance:\", account.balance)\n",
        "\n",
        "account.deposit(50)\n",
        "account.withdraw(30)\n",
        "account.withdraw(150)"
      ]
    },
    {
      "cell_type": "markdown",
      "metadata": {
        "id": "tIzL2SJTM8ft"
      },
      "source": [
        "9. (11б). Створіть клас Library, який містить список об'єктів типу Book. Реалізуйте методи для додавання книги, видалення книги та відображення списку книг."
      ]
    },
    {
      "cell_type": "code",
      "execution_count": 12,
      "metadata": {
        "id": "HWxfJKLtNAUZ",
        "trusted": true
      },
      "outputs": [
        {
          "name": "stdout",
          "output_type": "stream",
          "text": [
            "Book 'The Great Gatsby' by F. Scott Fitzgerald added to the library.\n",
            "Book 'To Kill a Mockingbird' by Harper Lee added to the library.\n",
            "Books available in the library:\n",
            "- The Great Gatsby by F. Scott Fitzgerald\n",
            "- To Kill a Mockingbird by Harper Lee\n",
            "Book 'The Great Gatsby' removed from the library.\n",
            "Book '1984' not found in the library.\n",
            "Books available in the library:\n",
            "- To Kill a Mockingbird by Harper Lee\n"
          ]
        }
      ],
      "source": [
        "class Book:\n",
        "    def __init__(self, title, author):\n",
        "        self.title = title\n",
        "        self.author = author\n",
        "\n",
        "class Library:\n",
        "    def __init__(self):\n",
        "        self.books = []\n",
        "\n",
        "    def add_book(self, book):\n",
        "        if isinstance(book, Book):\n",
        "            self.books.append(book)\n",
        "            print(f\"Book '{book.title}' by {book.author} added to the library.\")\n",
        "        else:\n",
        "            print(\"Invalid book object. Please provide an instance of the Book class.\")\n",
        "\n",
        "    def remove_book(self, title):\n",
        "        for book in self.books:\n",
        "            if book.title == title:\n",
        "                self.books.remove(book)\n",
        "                print(f\"Book '{book.title}' removed from the library.\")\n",
        "                return\n",
        "        print(f\"Book '{title}' not found in the library.\")\n",
        "\n",
        "    def display_books(self):\n",
        "        if self.books:\n",
        "            print(\"Books available in the library:\")\n",
        "            for book in self.books:\n",
        "                print(f\"- {book.title} by {book.author}\")\n",
        "        else:\n",
        "            print(\"The library is empty.\")\n",
        "\n",
        "library = Library()\n",
        "\n",
        "book1 = Book(\"The Great Gatsby\", \"F. Scott Fitzgerald\")\n",
        "book2 = Book(\"To Kill a Mockingbird\", \"Harper Lee\")\n",
        "\n",
        "library.add_book(book1)\n",
        "library.add_book(book2)\n",
        "\n",
        "library.display_books()\n",
        "\n",
        "library.remove_book(\"The Great Gatsby\")\n",
        "library.remove_book(\"1984\")\n",
        "\n",
        "library.display_books()"
      ]
    },
    {
      "cell_type": "markdown",
      "metadata": {
        "id": "lmV8pAwwNIqu"
      },
      "source": [
        "10. (13б). Створіть клас Person з атрибутами name та age. Створіть ще один клас Employee з такими атрибутами, як department та salary. Створіть клас Manager, який успадковує обидва класи Person та Employee. Продемонструйте використання множинної спадковості, створивши обʼєкт класу Manager та отримавши mro для цього класу."
      ]
    },
    {
      "cell_type": "code",
      "execution_count": 13,
      "metadata": {
        "id": "R49grKlWNPeN",
        "trusted": true
      },
      "outputs": [
        {
          "name": "stdout",
          "output_type": "stream",
          "text": [
            "MRO for Manager class: [<class '__main__.Manager'>, <class '__main__.Person'>, <class '__main__.Employee'>, <class 'object'>]\n"
          ]
        }
      ],
      "source": [
        "class Person:\n",
        "    def __init__(self, name, age):\n",
        "        self.name = name\n",
        "        self.age = age\n",
        "\n",
        "class Employee:\n",
        "    def __init__(self, department, salary):\n",
        "        self.department = department\n",
        "        self.salary = salary\n",
        "\n",
        "class Manager(Person, Employee):\n",
        "    def __init__(self, name, age, department, salary):\n",
        "        Person.__init__(self, name, age)\n",
        "        Employee.__init__(self, department, salary)\n",
        "\n",
        "manager = Manager(\"John\", 40, \"IT\", 60000)\n",
        "\n",
        "print(\"MRO for Manager class:\", Manager.mro())"
      ]
    },
    {
      "cell_type": "markdown",
      "metadata": {
        "id": "dIJyUiNBFG8G"
      },
      "source": [
        "# II. Iterator"
      ]
    },
    {
      "cell_type": "markdown",
      "metadata": {
        "id": "13vsm0NyKIzL"
      },
      "source": [
        "11. (4б). Визначте рядок(str) з 4ма різними за значенням символами. Створіть ітератор на основі цього рядка. Викличте 5 разів функцію next на ітераторі, 4ри перших з них огорніть у ф-цію print()."
      ]
    },
    {
      "cell_type": "code",
      "execution_count": 18,
      "metadata": {
        "id": "81ntabAkKuz-",
        "trusted": true
      },
      "outputs": [
        {
          "name": "stdout",
          "output_type": "stream",
          "text": [
            "a\n",
            "b\n",
            "c\n",
            "d\n"
          ]
        }
      ],
      "source": [
        "my_string = \"abcd\"\n",
        "\n",
        "my_iterator = iter(my_string)\n",
        "\n",
        "for _ in range(4):\n",
        "    value = next(my_iterator)\n",
        "    if value:\n",
        "        print(value)"
      ]
    },
    {
      "cell_type": "markdown",
      "metadata": {
        "id": "aekWHGXOLRsO"
      },
      "source": [
        "А що якщо викликати цю ж функцію на рядку?"
      ]
    },
    {
      "cell_type": "code",
      "execution_count": 17,
      "metadata": {
        "id": "mxATGsErLV1i",
        "trusted": true
      },
      "outputs": [
        {
          "name": "stdout",
          "output_type": "stream",
          "text": [
            "Error: 'str' object is not an iterator\n"
          ]
        }
      ],
      "source": [
        "my_string = \"abcd\"\n",
        "\n",
        "try:\n",
        "    next(my_string)\n",
        "except TypeError as e:\n",
        "    print(\"Error:\", e)"
      ]
    },
    {
      "cell_type": "markdown",
      "metadata": {
        "id": "XwtMEopwJ4pH"
      },
      "source": [
        " 12. (5б). Опишіть своїми словами в одному реченні, як ви розумієте різницю між ітерабельними обʼєктами та ітераторами (можна на прикладі)."
      ]
    },
    {
      "cell_type": "markdown",
      "metadata": {
        "id": "-sHrODc3KFn8"
      },
      "source": [
        "Ітерабельні об'єкти - це об'єкти, які можна перебирати поелементно, наприклад, списки, кортежі, рядки, а ітератори - це об'єкти, які зберігають поточну позицію при переборі і дозволяють послідовно отримувати елементи з ітерабельного об'єкта, перевіряючи кожен елемент."
      ]
    },
    {
      "cell_type": "markdown",
      "metadata": {
        "id": "E9qJWmNbK8Gl"
      },
      "source": [
        "13. (11б). Створіть клас, що має визначений Iterator Protocol та при кожному виклику next повертає літери англійської абетки, поки вони не вичерпаються."
      ]
    },
    {
      "cell_type": "code",
      "execution_count": null,
      "metadata": {
        "id": "cqx-g_RsLo6I"
      },
      "outputs": [],
      "source": [
        "class AlphabetIterator:\n",
        "    def __init__(self):\n",
        "        self.current_letter = ord('a') - 1\n",
        "\n",
        "    def __iter__(self):\n",
        "        return self\n",
        "\n",
        "    def __next__(self):\n",
        "        self.current_letter += 1\n",
        "        if self.current_letter <= ord('z'):\n",
        "            return chr(self.current_letter)\n",
        "        else:\n",
        "            raise StopIteration\n",
        "\n",
        "alphabet_iterator = AlphabetIterator()\n",
        "\n",
        "for _ in range(26):\n",
        "    print(next(alphabet_iterator))"
      ]
    },
    {
      "cell_type": "markdown",
      "metadata": {
        "id": "Z3E3S_s1Fv7-"
      },
      "source": [
        "# Вітаю! Ви велика(ий) молодець, що впоралась(вся). Похваліть себе та побалуйте чимось приємним. Я Вами пишаюся."
      ]
    }
  ],
  "metadata": {
    "colab": {
      "provenance": []
    },
    "kernelspec": {
      "display_name": "Python (Pyodide)",
      "language": "python",
      "name": "python"
    },
    "language_info": {
      "codemirror_mode": {
        "name": "python",
        "version": 3
      },
      "file_extension": ".py",
      "mimetype": "text/x-python",
      "name": "python",
      "nbconvert_exporter": "python",
      "pygments_lexer": "ipython3",
      "version": "3.8"
    }
  },
  "nbformat": 4,
  "nbformat_minor": 4
}
