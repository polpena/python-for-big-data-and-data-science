{
  "cells": [
    {
      "cell_type": "markdown",
      "metadata": {
        "id": "qDEi2Pi-4yUC"
      },
      "source": [
        "# I. Оператори порівняння та логічні оператори. Умови."
      ]
    },
    {
      "cell_type": "markdown",
      "metadata": {
        "id": "3v8D4Dkm43Ua"
      },
      "source": [
        "1. Створіть цілочисленну змінну зі своїм щасливим або улюбленим числом. Напишіть код, який би автоматизовував наступну задачу.\n",
        "\n",
        "Якщо число парне, помножте його на 2 та виведіть результат на екран.\n",
        "\n",
        "Але якщо число непарне, помножте його на 3 та додайте 1 і виведіть на екран."
      ]
    },
    {
      "cell_type": "code",
      "execution_count": null,
      "metadata": {
        "id": "dlVjc-Nu4bmb",
        "trusted": true
      },
      "outputs": [],
      "source": [
        "favorite_number = 9\n",
        "\n",
        "if favorite_number % 2 == 0:  # перевірка на парність\n",
        "    result = favorite_number * 2\n",
        "    print(\"Число парне. Результат:\", result)\n",
        "else:  # якщо число непарне\n",
        "    result = favorite_number * 3 + 1\n",
        "    print(\"Число непарне. Результат:\", result)\n"
      ]
    },
    {
      "cell_type": "markdown",
      "metadata": {
        "id": "H669P0QK5BI_"
      },
      "source": [
        "2. Створіть змінну, що посилається на список. Якщо список пустий, додайте будь-який елемент у кінець списку. Якщо ж ні, то нічого не робіть."
      ]
    },
    {
      "cell_type": "code",
      "execution_count": null,
      "metadata": {
        "id": "ecWlfra45f6E",
        "trusted": true
      },
      "outputs": [],
      "source": [
        "my_list = []\n",
        "\n",
        "if not my_list:\n",
        "    my_list.append(\"a\")\n",
        "\n",
        "print(\"Список:\", my_list)\n"
      ]
    },
    {
      "cell_type": "markdown",
      "metadata": {
        "id": "h9Y3cMUd5h85"
      },
      "source": [
        "3. Створіть рядок зі своїм імʼям латинкою. Напишіть код, який би автоматизовував наступну задачу.\n",
        "\n",
        "Якщо в імені є літера \"а\"\n",
        " або \"i\", Виведіть на екран повідомлення \"A or I is in the name\".\n",
        "\n",
        "\n",
        "\n",
        "Якщо в імені є літери \"o\" та \"n\", Виведіть на екран повідомлення \"O and N is in the name\".\n",
        "\n",
        "Також якщо в імені немає літери \"о\", але є \"n\", Виведіть на екран повідомлення \"Only N is in the name\".\n",
        "\n",
        "В решті випадків виведіть на екран повідомлення \"There is no N in the name, but there might be O\".\n",
        "\n",
        "Зверніть увагу, що, наприклад, для імені \"Antonina\" буде виведено два повідомлення."
      ]
    },
    {
      "cell_type": "code",
      "execution_count": null,
      "metadata": {
        "id": "bUH4LUx35u52",
        "trusted": true
      },
      "outputs": [],
      "source": [
        "name = \"Polina\" \n",
        "\n",
        "if 'a' in name.lower() or 'i' in name.lower():\n",
        "    print(\"A or I is in the name\")\n",
        "\n",
        "if 'o' in name.lower() and 'n' in name.lower():\n",
        "    print(\"O and N is in the name\")\n",
        "elif 'n' in name.lower() and 'o' not in name.lower():\n",
        "    print(\"Only N is in the name\")\n",
        "else:\n",
        "    print(\"There is no N in the name, but there might be O\")\n"
      ]
    },
    {
      "cell_type": "markdown",
      "metadata": {
        "id": "wPCXJv4354cU"
      },
      "source": [
        "# II. Comprehensions."
      ]
    },
    {
      "cell_type": "markdown",
      "metadata": {
        "id": "jULLW5jN55Pw"
      },
      "source": [
        "4. Створіть список, використовуючи if (не if-else), range та comprehension."
      ]
    },
    {
      "cell_type": "code",
      "execution_count": null,
      "metadata": {
        "id": "mlZalnVC6W3F",
        "trusted": true
      },
      "outputs": [],
      "source": [
        "# Створення списку з числами, які кратні 9 або 5\n",
        "my_list = [x for x in range(1, 101) if x % 5 == 0 or x % 9 == 0]\n",
        "\n",
        "print(my_list)"
      ]
    },
    {
      "cell_type": "markdown",
      "metadata": {
        "id": "LqhEQ4JW6XcC"
      },
      "source": [
        "5. Створіть словник, використовуючи dict comprehension, що містить if else. Коли слід використовувати comprehensions, а коли їх слід уникати?"
      ]
    },
    {
      "cell_type": "code",
      "execution_count": null,
      "metadata": {
        "id": "1yVaFbOs6hta",
        "trusted": true
      },
      "outputs": [],
      "source": [
        "numbers = {x: \"even\" if x % 2 == 0 else \"odd\" for x in range(1, 11)}\n",
        "\n",
        "print(numbers)"
      ]
    },
    {
      "cell_type": "markdown",
      "metadata": {
        "id": "wbkzNhKq6hzz"
      },
      "source": [
        "Коли використовувати comprehensions:\n",
        "- При створенні нового списку, множини або словника на основі простої логіки\n",
        "- Щоб зробити код більш читабельним і компактним\n",
        "\n",
        "Сomprehenions варто уникати, коли логіка умов стає занадто складною і її важко зрозуміти через використання comprehensions.."
      ]
    },
    {
      "cell_type": "markdown",
      "metadata": {
        "id": "ZlqB8G3G6lHP"
      },
      "source": [
        "6. Створіть список з рядками та запишіть його у змінну. Створіть ще один список на основі попереднього, де кожен рядок буде містити тільки три перших заглавних символи. Наприклад: ['hello', 'i', 'dont', 'care'] -> ['HEL', 'I', 'DON', 'CAR']. Використання comprehensions обовʼязкове."
      ]
    },
    {
      "cell_type": "code",
      "execution_count": null,
      "metadata": {
        "id": "nw6rz0bR60VC",
        "trusted": true
      },
      "outputs": [],
      "source": [
        "original_list = ['hello', 'i', 'dont', 'care']\n",
        "\n",
        "new_list = [word[:3].upper() for word in original_list]\n",
        "\n",
        "print(new_list)"
      ]
    },
    {
      "cell_type": "markdown",
      "metadata": {
        "id": "Tj573IAH64Fz"
      },
      "source": [
        "# III. Цикли."
      ]
    },
    {
      "cell_type": "markdown",
      "metadata": {
        "id": "tN_33xdE65H5"
      },
      "source": [
        "7. Продемонструйте роботу циклу while. Не можна використовувати True для запуску циклу, щоб уникнути безкінечного циклу!"
      ]
    },
    {
      "cell_type": "code",
      "execution_count": null,
      "metadata": {
        "id": "Kd9FO6yG63P5",
        "trusted": true
      },
      "outputs": [],
      "source": [
        "counter = 0\n",
        "\n",
        "while counter < 5:\n",
        "    print(\"Лічильник:\", counter)\n",
        "    counter += 1\n",
        "\n",
        "print(\"Цикл завершено.\")"
      ]
    },
    {
      "cell_type": "markdown",
      "metadata": {
        "id": "x2CmfZO-7pW0"
      },
      "source": [
        "8. Напишіть програму, яка виведе на екран непарні числа в діапазоні від 0 до 20 включно."
      ]
    },
    {
      "cell_type": "code",
      "execution_count": null,
      "metadata": {
        "id": "aCSRYA6s7tkF",
        "trusted": true
      },
      "outputs": [],
      "source": [
        "for num in range(1, 21, 2):\n",
        "    print(num)"
      ]
    },
    {
      "cell_type": "markdown",
      "metadata": {
        "id": "MDWNocZD7t_B"
      },
      "source": [
        "9. Створіть список з елементами булевого типу або None. Використовуючи цикли, отримайте в результаті список з кортежами, де перший елемент кортежу - індекс(ціле число), а другий елемент - відповідне значення з першого списку.\n",
        "\n",
        "Наприклад, [True, True, None, False] -> [(0, True), (1, True), (2, None), (3, False)]"
      ]
    },
    {
      "cell_type": "code",
      "execution_count": null,
      "metadata": {
        "id": "0EUyjMdp7yfh",
        "trusted": true
      },
      "outputs": [],
      "source": [
        "initial_list = [True, True, None, False]\n",
        "\n",
        "result_list = []\n",
        "\n",
        "for index, value in enumerate(initial_list):\n",
        "    result_list.append((index, value))\n",
        "\n",
        "print(result_list)"
      ]
    },
    {
      "cell_type": "markdown",
      "metadata": {
        "id": "-6XUqlcG7zKs"
      },
      "source": [
        "10. Створіть словник, де ключі - назви книжок, а значення - їхня кількість у наявності в Вашій міні-бібліотеці. Бібліотека має містити щонайменше 6 книжок (6 пар значень у словнику) і щонайбільше 10 (пар значень). Використовуючи цикли, оновіть словник (не створюйте новий) так, щоби кількість книг у наявності збільшилося на 5 кожної книги. Наприклад,\n",
        "{'It': 3, 'Fault stars': 10, 'Bible': 17, 'Psychological romance': 4, 'Harry Potter': 13} -> {'It': 8, 'Fault stars': 15, 'Bible': 22, 'Psychological romance': 9, 'Harry Potter': 18}"
      ]
    },
    {
      "cell_type": "code",
      "execution_count": null,
      "metadata": {
        "id": "Ceoj9wwb791q",
        "trusted": true
      },
      "outputs": [],
      "source": [
        "library = {\n",
        "    'It': 3,\n",
        "    'Fault stars': 10,\n",
        "    'Bible': 17,\n",
        "    'Psychological romance': 4,\n",
        "    'Harry Potter': 13\n",
        "}\n",
        "\n",
        "for book in library:\n",
        "    library[book] += 5\n",
        "\n",
        "print(library)"
      ]
    },
    {
      "cell_type": "markdown",
      "metadata": {
        "id": "QLzyJM288AC7"
      },
      "source": [
        "11. Визначте цілочислену змінну n, що належить проміжку від 4 до 10 включно. Використовуючи цикли, виведіть в консоль наступний патерн.\n",
        "\n",
        "\\#\n",
        "\n",
        "\\##\n",
        "\n",
        "\\###\n",
        "\n",
        "\\####\n",
        "\n",
        "... #*n\n"
      ]
    },
    {
      "cell_type": "code",
      "execution_count": null,
      "metadata": {
        "id": "KOpng87s8Duz",
        "trusted": true
      },
      "outputs": [],
      "source": [
        "n = 10\n",
        "\n",
        "for i in range(1, n + 1):\n",
        "    print(\"#\" * i)"
      ]
    },
    {
      "cell_type": "markdown",
      "metadata": {
        "id": "_bd-bqAT8EHn"
      },
      "source": [
        "12. Гра \"Нумо вгадай\".\n",
        "Розробіть просту гру, де користувач має вгадати випадкове число від 1 до 100. Для генерації випадкового числа використовуйте функцію random.randint(a, b) (тут a та b включно). Для отримання числа з консолі використовуйте функцію input(), результат якої обовʼязково явно приведіть до типу int.\n",
        "\n",
        "Підказка: використовуйте цикл while та умови if-else, щоб повідомити користувачу піказки (напр. \"Більше\", \"Менше\") поки користувач не вгадає. По завершенню виведіть кількість спроб, які знадобилися для вгадування."
      ]
    },
    {
      "cell_type": "code",
      "execution_count": 1,
      "metadata": {
        "editable": true,
        "id": "IK9nnxFK8Hkl",
        "slideshow": {
          "slide_type": ""
        },
        "tags": [],
        "trusted": true
      },
      "outputs": [
        {
          "name": "stdout",
          "output_type": "stream",
          "text": [
            "Вгадайте число від 1 до 100.\n",
            "9\n",
            "Більше.\n",
            "10\n",
            "Більше.\n",
            "19\n",
            "Більше.\n",
            "40\n",
            "Більше.\n",
            "70\n",
            "Більше.\n",
            "60\n",
            "Більше.\n",
            "80\n",
            "Більше.\n",
            "90\n",
            "Вітаємо! Ви вгадали число.\n",
            "Кількість спроб: 8\n"
          ]
        }
      ],
      "source": [
        "import random\n",
        "\n",
        "secret_number = random.randint(1, 100)\n",
        "\n",
        "attempts = 0\n",
        "\n",
        "print(\"Вгадайте число від 1 до 100.\")\n",
        "\n",
        "# Початок гри\n",
        "while True:\n",
        "    guess_str = input(\"Введіть ваше число: \")\n",
        "    print(guess_str)\n",
        "    guess = int(guess_str)\n",
        "    \n",
        "    attempts += 1\n",
        "    \n",
        "    if guess == secret_number:\n",
        "        print(\"Вітаємо! Ви вгадали число.\")\n",
        "        break\n",
        "    elif guess < secret_number:\n",
        "        print(\"Більше.\")\n",
        "    else:\n",
        "        print(\"Менше.\")\n",
        "\n",
        "print(\"Кількість спроб:\", attempts)"
      ]
    },
    {
      "cell_type": "markdown",
      "metadata": {
        "id": "PXoXWb7Z8IGi"
      },
      "source": [
        "# Вітаю! Ви велика(ий) молодець, що впоралась(вся). Похваліть себе та побалуйте чимось приємним. Я Вами пишаюся."
      ]
    }
  ],
  "metadata": {
    "colab": {
      "provenance": []
    },
    "kernelspec": {
      "display_name": "Python 3",
      "language": "python",
      "name": "python3"
    },
    "language_info": {
      "codemirror_mode": {
        "name": "ipython",
        "version": 3
      },
      "file_extension": ".py",
      "mimetype": "text/x-python",
      "name": "python",
      "nbconvert_exporter": "python",
      "pygments_lexer": "ipython3",
      "version": "3.12.0"
    }
  },
  "nbformat": 4,
  "nbformat_minor": 4
}
