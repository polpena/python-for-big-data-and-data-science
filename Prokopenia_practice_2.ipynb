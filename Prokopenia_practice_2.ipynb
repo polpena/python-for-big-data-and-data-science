{
  "metadata": {
    "kernelspec": {
      "name": "python",
      "display_name": "Python (Pyodide)",
      "language": "python"
    },
    "language_info": {
      "codemirror_mode": {
        "name": "python",
        "version": 3
      },
      "file_extension": ".py",
      "mimetype": "text/x-python",
      "name": "python",
      "nbconvert_exporter": "python",
      "pygments_lexer": "ipython3",
      "version": "3.8"
    },
    "colab": {
      "provenance": []
    }
  },
  "nbformat_minor": 4,
  "nbformat": 4,
  "cells": [
    {
      "cell_type": "markdown",
      "source": "# I. Змінні та памʼять.",
      "metadata": {
        "id": "p9wwt0LZzNvn"
      }
    },
    {
      "cell_type": "markdown",
      "source": "1. Створити змінні, що посилаються на два цілих числа, що однакові за значенням, де значення належить проміжку від -5 до 256. Перевірте, чи будуть ці змінні рівні тільки за значенням або ж ще будуть посилатися на один і той самий обʼєкт в памʼяті? Наведіть код та дайте текстову відповідь нижче.",
      "metadata": {
        "id": "HTJrrm95xSV9"
      }
    },
    {
      "cell_type": "code",
      "source": "# Створення змінних, що посилаються на однакове ціле число\na = 100\nb = 100\n\n# Перевірка, чи змінні рівні за значенням\nvalues_equal = (a == b)\n\n# Перевірка, чи змінні посилаються на один і той самий об'єкт в пам'яті\nreferences_equal = (a is b)\n\n# Виведення результатів\nprint(\"Чи змінні рівні за значенням?\", values_equal)\nprint(\"Чи змінні посилаються на один і той самий об'єкт в пам'яті?\", references_equal)\n",
      "metadata": {
        "id": "TATni2vzayjG",
        "trusted": true
      },
      "outputs": [
        {
          "name": "stdout",
          "text": "Чи змінні рівні за значенням? True\nЧи змінні посилаються на один і той самий об'єкт в пам'яті? True\n",
          "output_type": "stream"
        }
      ],
      "execution_count": 1
    },
    {
      "cell_type": "markdown",
      "source": "\nУ Python цілі числа в діапазоні від -5 до 256 зазвичай кешуються і використовуються тільки один об'єкт для кожного числа в цьому діапазоні. Тому дві змінні, які посилаються на однакове ціле число з цього діапазону, будуть посилатися на один і той самий об'єкт в пам'яті.",
      "metadata": {
        "id": "zfRG_o3WbRdg"
      }
    },
    {
      "cell_type": "markdown",
      "source": "2. За допомогою якої функції можна перевірити належність змінної до вказаного типу даних (напр. чи змінна True посилається на значення булевого та цілочисленого типу)?",
      "metadata": {
        "id": "ISORzt6M3vAt"
      }
    },
    {
      "cell_type": "code",
      "source": "# Перевірка чи змінна True належить до типів bool та int\nis_bool = isinstance(True, bool)\nis_int = isinstance(True, int)\n\nprint(\"Чи змінна True є булевого типу?\", is_bool)\nprint(\"Чи змінна True є цілочисельного типу?\", is_int)",
      "metadata": {
        "id": "9vL9CFaMbfyo",
        "trusted": true
      },
      "outputs": [
        {
          "name": "stdout",
          "text": "Чи змінна True є булевого типу? True\nЧи змінна True є цілочисельного типу? True\n",
          "output_type": "stream"
        }
      ],
      "execution_count": 2
    },
    {
      "cell_type": "markdown",
      "source": "# II. Цілі числа та числа з рухомою комою",
      "metadata": {
        "id": "tRxugKAxwYLw"
      }
    },
    {
      "cell_type": "markdown",
      "source": "3. Створити дві змінні, що посилаються на будь-які ціле число та число з рухомою комою та продемонструвати такі арифметичні операції: додавання, віднімання, ділення, множення, ділення без залишку, ділення по модулю, приведення до ступеню. Всі результати операцій вивести на екран.",
      "metadata": {
        "id": "NLHkgd5Gybc8"
      }
    },
    {
      "cell_type": "code",
      "source": "# Створення змінних\ninteger_number = 10\nfloat_number = 3.5\n\n# Додавання\naddition_result = integer_number + float_number\nprint(\"Додавання:\", addition_result)\n\n# Віднімання\nsubtraction_result = integer_number - float_number\nprint(\"Віднімання:\", subtraction_result)\n\n# Ділення\ndivision_result = integer_number / float_number\nprint(\"Ділення:\", division_result)\n\n# Множення\nmultiplication_result = integer_number * float_number\nprint(\"Множення:\", multiplication_result)\n\n# Ділення без залишку\ninteger_division_result = integer_number // float_number\nprint(\"Ділення без залишку:\", integer_division_result)\n\n# Ділення по модулю\nmodulus_result = integer_number % float_number\nprint(\"Ділення по модулю:\", modulus_result)\n\n# Піднесення до ступеня\nexponentiation_result = integer_number ** 2\nprint(\"Піднесення до ступеня:\", exponentiation_result)\n",
      "metadata": {
        "id": "nb8u_3pjb2cA",
        "trusted": true
      },
      "outputs": [
        {
          "name": "stdout",
          "text": "Додавання: 13.5\nВіднімання: 6.5\nДілення: 2.857142857142857\nМноження: 35.0\nДілення без залишку: 2.0\nДілення по модулю: 3.0\nПіднесення до ступеня: 100\n",
          "output_type": "stream"
        }
      ],
      "execution_count": 3
    },
    {
      "cell_type": "markdown",
      "source": "4. Використовуючи змінні з вправи 3, продемонструйте механізм явного перетворення типів, де числа з рухомою комою перетворюються на цілі числа. Також визначте змінну, що посилається на значення булевого типу і спробуйте явно привести її до цілого числа.",
      "metadata": {
        "id": "1kBClKgPzZnC"
      }
    },
    {
      "cell_type": "code",
      "source": "# Явне перетворення числа з рухомою комою на ціле число\ninteger_from_float = int(float_number)\nprint(\"Перетворене число з рухомою комою на ціле число:\", integer_from_float)\n\nboolean_value = True\n\n# Явне перетворення булевого значення на ціле число\ninteger_from_boolean = int(boolean_value)\nprint(\"Булеве значення перетворене на ціле число:\", integer_from_boolean)\n",
      "metadata": {
        "id": "TbqJbkeUcKsD",
        "trusted": true
      },
      "outputs": [
        {
          "name": "stdout",
          "text": "Перетворене число з рухомою комою на ціле число: 3\nБулеве значення перетворене на ціле число: 1\n",
          "output_type": "stream"
        }
      ],
      "execution_count": 4
    },
    {
      "cell_type": "markdown",
      "source": "# IІІ. Рядки (String).",
      "metadata": {
        "id": "EVJ7AflwxrZi"
      }
    },
    {
      "cell_type": "markdown",
      "source": "5. Створити пустий рядок двома різними способами.",
      "metadata": {
        "id": "_s5ECzz9zE61"
      }
    },
    {
      "cell_type": "code",
      "source": "string1 = ''\nstring2 = str()",
      "metadata": {
        "id": "fkZJHu9Scvc-",
        "trusted": true
      },
      "outputs": [],
      "execution_count": 5
    },
    {
      "cell_type": "markdown",
      "source": "6. Створити рядок з апострофом. Зробити його сирим. Вивести обидва рядка на екран.",
      "metadata": {
        "id": "4Bdn9J3MzLf_"
      }
    },
    {
      "cell_type": "code",
      "source": "string_with_apost = 'I\\'m an apostrophe'\nstring_with_apostrophe = r\"I'm an apostrophe\"\n\nprint(string_with_apost)\nprint(string_with_apostrophe)",
      "metadata": {
        "id": "ivji_hsmc0GH",
        "trusted": true
      },
      "outputs": [
        {
          "name": "stdout",
          "text": "I'm an apostrophe\nI'm an apostrophe\n",
          "output_type": "stream"
        }
      ],
      "execution_count": 13
    },
    {
      "cell_type": "markdown",
      "source": "7. Створити змінну, що буде посилатися на Ваше прізвище латинкою. Створити форматований рядок, який буде мати вигляд \"My surname is ______\", де на місці нижніх підкреслень буде Ваше прізвище зі змінної.",
      "metadata": {
        "id": "bg_d8wM4z8dS"
      }
    },
    {
      "cell_type": "code",
      "source": "surname = \"Prokopenia\"\nformatted_string = \"My surname is {}\".format(surname)\nprint(formatted_string)",
      "metadata": {
        "id": "kuxFgpWndACq",
        "trusted": true
      },
      "outputs": [
        {
          "name": "stdout",
          "text": "My surname is Prokopenia\n",
          "output_type": "stream"
        }
      ],
      "execution_count": 14
    },
    {
      "cell_type": "markdown",
      "source": "8. Маючи рядок \"My dog is crazy.\" перетворити його на список [\"my\", \"dog\", \"is\", \"crazy\"]",
      "metadata": {
        "id": "1Nc6RqvQ0hxU"
      }
    },
    {
      "cell_type": "code",
      "source": "text = \"My dog is crazy.\"\nword_list = text.lower().split()\nprint(word_list)",
      "metadata": {
        "id": "w1Ya4RqedUhw",
        "trusted": true
      },
      "outputs": [
        {
          "name": "stdout",
          "text": "['my', 'dog', 'is', 'crazy.']\n",
          "output_type": "stream"
        }
      ],
      "execution_count": 15
    },
    {
      "cell_type": "markdown",
      "source": "# IV. Робота зі списками.",
      "metadata": {
        "id": "GYVqN9uP1D4n"
      }
    },
    {
      "cell_type": "markdown",
      "source": "9. Створити список двома різними за синтаксисом способами. За допомогою вбудованої функції обчисліть довжину одного з них.",
      "metadata": {
        "id": "7-DeDunw2sO-"
      }
    },
    {
      "cell_type": "code",
      "source": "list1 = [1, 2, 3, 4, 5]\nlist2 = list(range(10))\n\nlength = len(list1)\n\nprint(\"Довжина першого списку:\", length)",
      "metadata": {
        "id": "zxg06Uuxdyoh",
        "trusted": true
      },
      "outputs": [
        {
          "name": "stdout",
          "text": "Довжина першого списку: 5\n",
          "output_type": "stream"
        }
      ],
      "execution_count": 16
    },
    {
      "cell_type": "markdown",
      "source": "10. Створіть два списка та за допомогою спеціального методу додайте другий з них в якості останнього елемента першого.",
      "metadata": {
        "id": "8vmGUTjL22gI"
      }
    },
    {
      "cell_type": "code",
      "source": "list1 = [1, 2, 3]\nlist2 = [4, 5, 6]\n\nlist1.extend(list2)\n\nprint(\"Список після додавання другого списку:\", list1)",
      "metadata": {
        "id": "uHtjWYw7d7hm",
        "trusted": true
      },
      "outputs": [
        {
          "name": "stdout",
          "text": "Список після додавання другого списку: [1, 2, 3, 4, 5, 6]\n",
          "output_type": "stream"
        }
      ],
      "execution_count": 17
    },
    {
      "cell_type": "markdown",
      "source": "11. Створіть список, де елементами цього списку також є списки. Отримай перший елемент з останнього рядка та виведи значення на екран.",
      "metadata": {
        "id": "JC3BkD-67_--"
      }
    },
    {
      "cell_type": "code",
      "source": "nested_list = [[1, 2, 3], [4, 5, 6], [7, 8, 9]]\n\nfirst_element_last_row = nested_list[-1][0]\n\nprint(\"Перший елемент з останнього рядка:\", first_element_last_row)",
      "metadata": {
        "id": "Kz2jZHsGeLlz",
        "trusted": true
      },
      "outputs": [
        {
          "name": "stdout",
          "text": "Перший елемент з останнього рядка: 7\n",
          "output_type": "stream"
        }
      ],
      "execution_count": 18
    },
    {
      "cell_type": "markdown",
      "source": "12. Створіть список з десяти елементів різного типу. Отримайте всі елементи, окрім двох перших та двох останніх та збережіть їх в новій змінній.",
      "metadata": {
        "id": "JA47PKTv8zFK"
      }
    },
    {
      "cell_type": "code",
      "source": "original_list = [1, \"two\", 3.0, True, [4, 5], \"six\", {\"seven\": 7}, 8, None, (9, 10)]\n\nnew_list = original_list[2:-2]\n\nprint(\"Новий список без перших та останніх двох елементів:\", new_list)",
      "metadata": {
        "id": "_rHdUR-ueP4-",
        "trusted": true
      },
      "outputs": [
        {
          "name": "stdout",
          "text": "Новий список без перших та останніх двох елементів: [3.0, True, [4, 5], 'six', {'seven': 7}, 8]\n",
          "output_type": "stream"
        }
      ],
      "execution_count": 19
    },
    {
      "cell_type": "markdown",
      "source": "# V. Робота з кортежами.",
      "metadata": {
        "id": "pCjR1dJb1Qbi"
      }
    },
    {
      "cell_type": "markdown",
      "source": "14. Створити кортеж з один елементом.",
      "metadata": {
        "id": "fAZCxAX06R_k"
      }
    },
    {
      "cell_type": "code",
      "source": "my_tuple = (42,)",
      "metadata": {
        "id": "H7d82WkQev3e",
        "trusted": true
      },
      "outputs": [],
      "execution_count": 20
    },
    {
      "cell_type": "markdown",
      "source": "15. Порівняйте список та кортеж. Назвіть схожості та відмінності, випадки використання.",
      "metadata": {
        "id": "8LCtYcmI6w1M"
      }
    },
    {
      "cell_type": "markdown",
      "source": "Схожості:\r\n1. : Як список, так і кортеж можуть зберігати колекції даних різних типі.2. ія: Як списки, так і кортежі можна індексувати і отримувати доступ до їх елементів за допомогою квадратних дужок та інде\n3. Обидва ртежі можна ітерувати за допомогою цикл\n\nВідмінності:\r\n1. С списки є змінюваними (mutable), тоді як кортежі є незмінюваними (immutabl: о після створення кортежу ми не можемо змінювати його структуру, додавати, видаляти або змінювати елемент.2. ис: Синтаксис створення списку використовує квадратні дужки [], а кортежу - круглі дужки(3. ість: К аних, можуть бути трохи швидшими в обробці та займати менше місця в пам'яті порівняно зі спи\n\nСписки (list) використовуються там, де необхідно мати можливість змінювати елементи чи додавати нові.\r\n\r\nКортежі (tuple) використовуються там, де потрібно гарантувати, що дані залишаться сталі, наприклад, коли дані передаються між функціями або при використанні ключів у словнику. Кортежі можуть бути також швидшими та економічнішими за рахунок пам'яті.сками.у for.",
      "metadata": {
        "id": "fUsN1Hnue0C6"
      }
    },
    {
      "cell_type": "markdown",
      "source": "16. Створіть кортеж з 11ти елементів чисел з рухомою комою та отримайте кожен парний за індексом елемент в зворотньому порядку. Наприклад, маючи (1.2, 2.3, 3.3, 4.3, 5.3, 6.3, 7.3, 8.3, 9.3, 0.3), отримати (0.3, 8.3, 6.3, 4.3, 2.3). Результат збережіть в нову змінну та виведіть на екран.",
      "metadata": {
        "id": "m0xrwFijAmDD"
      }
    },
    {
      "cell_type": "code",
      "source": "numbers_tuple = (1.2, 2.3, 3.3, 4.3, 5.3, 6.3, 7.3, 8.3, 9.3, 10.3, 11.3)\n\nresult_tuple = numbers_tuple[::-2]\nprint(result_tuple)",
      "metadata": {
        "id": "p-5DAH6XfAGA",
        "trusted": true
      },
      "outputs": [
        {
          "name": "stdout",
          "text": "(11.3, 9.3, 7.3, 5.3, 3.3, 1.2)\n",
          "output_type": "stream"
        }
      ],
      "execution_count": 21
    },
    {
      "cell_type": "markdown",
      "source": "# VI. Множини (Set).",
      "metadata": {
        "id": "rW_I9dt3x6cW"
      }
    },
    {
      "cell_type": "markdown",
      "source": "17. Створити множину без елементів. Після цого за допомогою методу додайте кілька різних елементів до множини. Чи множини є змінним типом даних?",
      "metadata": {
        "id": "zNjRLHLw1Bgg"
      }
    },
    {
      "cell_type": "code",
      "source": "my_set = set()\n\nmy_set.add(1)\nmy_set.add('two')\nmy_set.add(3.0)\n\nprint(\"Множина після додавання елементів:\", my_set)",
      "metadata": {
        "id": "KOv7zc2Kfo4N",
        "trusted": true
      },
      "outputs": [
        {
          "name": "stdout",
          "text": "Множина після додавання елементів: {1, 'two', 3.0}\n",
          "output_type": "stream"
        }
      ],
      "execution_count": 22
    },
    {
      "cell_type": "markdown",
      "source": "\nУ Python множина є змінним типом даних, оскільки можна додавати та видаляти елементи з множини",
      "metadata": {
        "id": "vxS6dVYiftZQ"
      }
    },
    {
      "cell_type": "markdown",
      "source": "18. Створити множину, маючи список my_list = [1, 1, 2, 67, 67, 8, 9]. Пояснити, чому \"зникли\" деякі елементи.",
      "metadata": {
        "id": "gHpT0Zw_1HEF"
      }
    },
    {
      "cell_type": "code",
      "source": "my_list = [1, 1, 2, 67, 67, 8, 9]\n\nmy_set = set(my_list)\nprint(\"Множина зі списку:\", my_set)",
      "metadata": {
        "id": "qCN4uvJ_fxmu",
        "trusted": true
      },
      "outputs": [
        {
          "name": "stdout",
          "text": "Множина зі списку: {1, 2, 67, 8, 9}\n",
          "output_type": "stream"
        }
      ],
      "execution_count": 23
    },
    {
      "cell_type": "markdown",
      "source": "Коли створюється множина в Python, всі дубльовані елементи автоматично видаляються, залишаючи лише унікальні значення",
      "metadata": {
        "id": "tFNc1e20fyny"
      }
    },
    {
      "cell_type": "markdown",
      "source": "19. Створіть дві множини. Продемонстуйте над ними операції: обʼєднання, різниці, пересічі та симетричної різниці. Використовуйте методи, що не змінюють множини, а створюють нові.",
      "metadata": {
        "id": "SRMkGizS1UwY"
      }
    },
    {
      "cell_type": "code",
      "source": "set1 = {1, 2, 3, 4, 5}\nset2 = {4, 5, 6, 7, 8}\n\n# Об'єднання множин\nunion_set = set1.union(set2)\n\n# Різниця множин (елементи, які є в першій множині, але не в другій)\ndifference_set = set1.difference(set2)\n\n# Пересічення множин (елементи, які є в обох множинах)\nintersection_set = set1.intersection(set2)\n\n# Симетрична різниця множин (елементи, які є в одній множині, але не в обох одночасно)\nsymmetric_difference_set = set1.symmetric_difference(set2)\n\nprint(\"Множина 1:\", set1)\nprint(\"Множина 2:\", set2)\nprint(\"Об'єднання множин:\", union_set)\nprint(\"Різниця множин:\", difference_set)\nprint(\"Пересічення множин:\", intersection_set)\nprint(\"Симетрична різниця множин:\", symmetric_difference_set)",
      "metadata": {
        "id": "h0T-VuDnf3Ri",
        "trusted": true
      },
      "outputs": [
        {
          "name": "stdout",
          "text": "Множина 1: {1, 2, 3, 4, 5}\nМножина 2: {4, 5, 6, 7, 8}\nОб'єднання множин: {1, 2, 3, 4, 5, 6, 7, 8}\nРізниця множин: {1, 2, 3}\nПересічення множин: {4, 5}\nСиметрична різниця множин: {1, 2, 3, 6, 7, 8}\n",
          "output_type": "stream"
        }
      ],
      "execution_count": 24
    },
    {
      "cell_type": "markdown",
      "source": "# VII. Словники (Dictionary).",
      "metadata": {
        "id": "kWc8gkzTx7Ea"
      }
    },
    {
      "cell_type": "markdown",
      "source": "20. Створіть пустий словник. До нього додайте чотири пари елементів такі, щоб їхні ключі були різних типів. Чи може список бути ключем? Чому?",
      "metadata": {
        "id": "i5FLwj-B2ybQ"
      }
    },
    {
      "cell_type": "code",
      "source": "my_dict = {}\n\nmy_dict[\"key1\"] = \"value1\"\nmy_dict[42] = \"value2\"\nmy_dict[(1, 2, 3)] = \"value3\"\nmy_dict[3.14] = \"value4\"\n\nprint(\"Словник:\", my_dict)",
      "metadata": {
        "id": "hxgv3BzrgLAV",
        "trusted": true
      },
      "outputs": [
        {
          "name": "stdout",
          "text": "Словник: {'key1': 'value1', 42: 'value2', (1, 2, 3): 'value3', 3.14: 'value4'}\n",
          "output_type": "stream"
        }
      ],
      "execution_count": 25
    },
    {
      "cell_type": "markdown",
      "source": "Список не може бути ключем у словнику в Python. Ключі у словнику повинні бути хешованими типами даних. До таких типів належать рядки, числа, кортежі, але оскільки списки є змінними (mutable), вони не можуть бути хешованими.",
      "metadata": {
        "id": "zwa7UVN-gR3m"
      }
    },
    {
      "cell_type": "markdown",
      "source": "21. Створіть словник, де значенням в одній з пар теж буде словник, який теж має вкладений словник. Виведіть на екран значення, що міститься в словнику, що знаходиться на найнижчому рівні ієрархії вкладеності (найбільш внутрішній).",
      "metadata": {
        "id": "WM_pMlJsgoNf"
      }
    },
    {
      "cell_type": "code",
      "source": "nested_dict = {\n    \"key1\": \"value1\",\n    \"key2\": {\n        \"nested_key1\": \"nested_value1\",\n        \"nested_key2\": {\n            \"inner_key\": \"inner_value\"\n        }\n    }\n}\n\ninner_value = nested_dict[\"key2\"][\"nested_key2\"][\"inner_key\"]\nprint(\"Значення на найбільш внутрішньому рівні:\", inner_value)\n",
      "metadata": {
        "id": "60dlP7IHhAy4",
        "trusted": true
      },
      "outputs": [
        {
          "name": "stdout",
          "text": "Значення на найбільш внутрішньому рівні: inner_value\n",
          "output_type": "stream"
        }
      ],
      "execution_count": 26
    },
    {
      "cell_type": "markdown",
      "source": "# Вітаю! Ви велика(ий) молодець, що впоралась(вся). Похваліть себе та побалуйте чимось приємним. Я Вами пишаюся.",
      "metadata": {
        "id": "xOZP0hkx6cCr"
      }
    }
  ]
}